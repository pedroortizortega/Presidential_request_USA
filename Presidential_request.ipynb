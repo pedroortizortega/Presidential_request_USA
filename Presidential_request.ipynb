{
 "cells": [
  {
   "cell_type": "markdown",
   "metadata": {},
   "source": [
    "# Presidential Request from the USA government"
   ]
  },
  {
   "cell_type": "code",
   "execution_count": 3,
   "metadata": {},
   "outputs": [],
   "source": [
    "# Importing the libraries\n",
    "import numpy as np\n",
    "import matplotlib.pyplot as plt\n",
    "import pandas as pd\n",
    "from matplotlib.pylab import frange\n",
    "import seaborn as sb\n",
    "from matplotlib import rcParams"
   ]
  },
  {
   "cell_type": "code",
   "execution_count": 4,
   "metadata": {},
   "outputs": [],
   "source": [
    "# Indexing the data\n",
    "data_path = './data/data_request.xlsx'\n",
    "data = pd.read_excel(data_path)"
   ]
  },
  {
   "cell_type": "code",
   "execution_count": 5,
   "metadata": {},
   "outputs": [
    {
     "data": {
      "text/html": [
       "<div>\n",
       "<style scoped>\n",
       "    .dataframe tbody tr th:only-of-type {\n",
       "        vertical-align: middle;\n",
       "    }\n",
       "\n",
       "    .dataframe tbody tr th {\n",
       "        vertical-align: top;\n",
       "    }\n",
       "\n",
       "    .dataframe thead th {\n",
       "        text-align: right;\n",
       "    }\n",
       "</style>\n",
       "<table border=\"1\" class=\"dataframe\">\n",
       "  <thead>\n",
       "    <tr style=\"text-align: right;\">\n",
       "      <th></th>\n",
       "      <th>President</th>\n",
       "      <th>Year</th>\n",
       "      <th>Total Requests</th>\n",
       "      <th>First-time Requests</th>\n",
       "      <th>Repeat Requests</th>\n",
       "    </tr>\n",
       "  </thead>\n",
       "  <tbody>\n",
       "    <tr>\n",
       "      <th>0</th>\n",
       "      <td>Truman I</td>\n",
       "      <td>1946</td>\n",
       "      <td>41.0</td>\n",
       "      <td>16.0</td>\n",
       "      <td>25.0</td>\n",
       "    </tr>\n",
       "    <tr>\n",
       "      <th>1</th>\n",
       "      <td>Truman I</td>\n",
       "      <td>1947</td>\n",
       "      <td>23.0</td>\n",
       "      <td>21.0</td>\n",
       "      <td>2.0</td>\n",
       "    </tr>\n",
       "    <tr>\n",
       "      <th>2</th>\n",
       "      <td>Truman I</td>\n",
       "      <td>1948</td>\n",
       "      <td>16.0</td>\n",
       "      <td>6.0</td>\n",
       "      <td>9.0</td>\n",
       "    </tr>\n",
       "    <tr>\n",
       "      <th>3</th>\n",
       "      <td>Truman II</td>\n",
       "      <td>1949</td>\n",
       "      <td>28.0</td>\n",
       "      <td>17.0</td>\n",
       "      <td>11.0</td>\n",
       "    </tr>\n",
       "    <tr>\n",
       "      <th>4</th>\n",
       "      <td>Truman II</td>\n",
       "      <td>1950</td>\n",
       "      <td>20.0</td>\n",
       "      <td>9.0</td>\n",
       "      <td>11.0</td>\n",
       "    </tr>\n",
       "    <tr>\n",
       "      <th>5</th>\n",
       "      <td>Truman II</td>\n",
       "      <td>1951</td>\n",
       "      <td>11.0</td>\n",
       "      <td>5.0</td>\n",
       "      <td>6.0</td>\n",
       "    </tr>\n",
       "    <tr>\n",
       "      <th>6</th>\n",
       "      <td>Truman II</td>\n",
       "      <td>1952</td>\n",
       "      <td>19.0</td>\n",
       "      <td>7.0</td>\n",
       "      <td>12.0</td>\n",
       "    </tr>\n",
       "    <tr>\n",
       "      <th>7</th>\n",
       "      <td>Eisenhower</td>\n",
       "      <td>1953</td>\n",
       "      <td>14.0</td>\n",
       "      <td>14.0</td>\n",
       "      <td>0.0</td>\n",
       "    </tr>\n",
       "    <tr>\n",
       "      <th>8</th>\n",
       "      <td>Eisenhower</td>\n",
       "      <td>1954</td>\n",
       "      <td>39.0</td>\n",
       "      <td>35.0</td>\n",
       "      <td>4.0</td>\n",
       "    </tr>\n",
       "    <tr>\n",
       "      <th>9</th>\n",
       "      <td>Eisenhower</td>\n",
       "      <td>1955</td>\n",
       "      <td>32.0</td>\n",
       "      <td>19.0</td>\n",
       "      <td>14.0</td>\n",
       "    </tr>\n",
       "    <tr>\n",
       "      <th>10</th>\n",
       "      <td>Eisenhower</td>\n",
       "      <td>1956</td>\n",
       "      <td>NaN</td>\n",
       "      <td>NaN</td>\n",
       "      <td>NaN</td>\n",
       "    </tr>\n",
       "  </tbody>\n",
       "</table>\n",
       "</div>"
      ],
      "text/plain": [
       "     President   Year   Total Requests   First-time Requests   \\\n",
       "0     Truman I    1946             41.0                  16.0   \n",
       "1     Truman I    1947             23.0                  21.0   \n",
       "2     Truman I    1948             16.0                   6.0   \n",
       "3    Truman II    1949             28.0                  17.0   \n",
       "4    Truman II    1950             20.0                   9.0   \n",
       "5    Truman II    1951             11.0                   5.0   \n",
       "6    Truman II    1952             19.0                   7.0   \n",
       "7   Eisenhower    1953             14.0                  14.0   \n",
       "8   Eisenhower    1954             39.0                  35.0   \n",
       "9   Eisenhower    1955             32.0                  19.0   \n",
       "10  Eisenhower    1956              NaN                   NaN   \n",
       "\n",
       "    Repeat Requests   \n",
       "0               25.0  \n",
       "1                2.0  \n",
       "2                9.0  \n",
       "3               11.0  \n",
       "4               11.0  \n",
       "5                6.0  \n",
       "6               12.0  \n",
       "7                0.0  \n",
       "8                4.0  \n",
       "9               14.0  \n",
       "10               NaN  "
      ]
     },
     "execution_count": 5,
     "metadata": {},
     "output_type": "execute_result"
    }
   ],
   "source": [
    "# I just view my data\n",
    "data.head(11)"
   ]
  },
  {
   "cell_type": "markdown",
   "metadata": {},
   "source": [
    "#### As Eisenhower's data has NaN values, we need to replaced by 0"
   ]
  },
  {
   "cell_type": "code",
   "execution_count": 6,
   "metadata": {},
   "outputs": [
    {
     "data": {
      "text/html": [
       "<div>\n",
       "<style scoped>\n",
       "    .dataframe tbody tr th:only-of-type {\n",
       "        vertical-align: middle;\n",
       "    }\n",
       "\n",
       "    .dataframe tbody tr th {\n",
       "        vertical-align: top;\n",
       "    }\n",
       "\n",
       "    .dataframe thead th {\n",
       "        text-align: right;\n",
       "    }\n",
       "</style>\n",
       "<table border=\"1\" class=\"dataframe\">\n",
       "  <thead>\n",
       "    <tr style=\"text-align: right;\">\n",
       "      <th></th>\n",
       "      <th>President</th>\n",
       "      <th>Year</th>\n",
       "      <th>Total Requests</th>\n",
       "      <th>First-time Requests</th>\n",
       "      <th>Repeat Requests</th>\n",
       "    </tr>\n",
       "  </thead>\n",
       "  <tbody>\n",
       "    <tr>\n",
       "      <th>0</th>\n",
       "      <td>Truman I</td>\n",
       "      <td>1946</td>\n",
       "      <td>41.0</td>\n",
       "      <td>16.0</td>\n",
       "      <td>25.0</td>\n",
       "    </tr>\n",
       "    <tr>\n",
       "      <th>1</th>\n",
       "      <td>Truman I</td>\n",
       "      <td>1947</td>\n",
       "      <td>23.0</td>\n",
       "      <td>21.0</td>\n",
       "      <td>2.0</td>\n",
       "    </tr>\n",
       "    <tr>\n",
       "      <th>2</th>\n",
       "      <td>Truman I</td>\n",
       "      <td>1948</td>\n",
       "      <td>16.0</td>\n",
       "      <td>6.0</td>\n",
       "      <td>9.0</td>\n",
       "    </tr>\n",
       "    <tr>\n",
       "      <th>3</th>\n",
       "      <td>Truman II</td>\n",
       "      <td>1949</td>\n",
       "      <td>28.0</td>\n",
       "      <td>17.0</td>\n",
       "      <td>11.0</td>\n",
       "    </tr>\n",
       "    <tr>\n",
       "      <th>4</th>\n",
       "      <td>Truman II</td>\n",
       "      <td>1950</td>\n",
       "      <td>20.0</td>\n",
       "      <td>9.0</td>\n",
       "      <td>11.0</td>\n",
       "    </tr>\n",
       "    <tr>\n",
       "      <th>5</th>\n",
       "      <td>Truman II</td>\n",
       "      <td>1951</td>\n",
       "      <td>11.0</td>\n",
       "      <td>5.0</td>\n",
       "      <td>6.0</td>\n",
       "    </tr>\n",
       "    <tr>\n",
       "      <th>6</th>\n",
       "      <td>Truman II</td>\n",
       "      <td>1952</td>\n",
       "      <td>19.0</td>\n",
       "      <td>7.0</td>\n",
       "      <td>12.0</td>\n",
       "    </tr>\n",
       "    <tr>\n",
       "      <th>7</th>\n",
       "      <td>Eisenhower</td>\n",
       "      <td>1953</td>\n",
       "      <td>14.0</td>\n",
       "      <td>14.0</td>\n",
       "      <td>0.0</td>\n",
       "    </tr>\n",
       "    <tr>\n",
       "      <th>8</th>\n",
       "      <td>Eisenhower</td>\n",
       "      <td>1954</td>\n",
       "      <td>39.0</td>\n",
       "      <td>35.0</td>\n",
       "      <td>4.0</td>\n",
       "    </tr>\n",
       "    <tr>\n",
       "      <th>9</th>\n",
       "      <td>Eisenhower</td>\n",
       "      <td>1955</td>\n",
       "      <td>32.0</td>\n",
       "      <td>19.0</td>\n",
       "      <td>14.0</td>\n",
       "    </tr>\n",
       "    <tr>\n",
       "      <th>10</th>\n",
       "      <td>Eisenhower</td>\n",
       "      <td>1956</td>\n",
       "      <td>0.0</td>\n",
       "      <td>0.0</td>\n",
       "      <td>0.0</td>\n",
       "    </tr>\n",
       "    <tr>\n",
       "      <th>11</th>\n",
       "      <td>Eisenhower II</td>\n",
       "      <td>1957</td>\n",
       "      <td>14.0</td>\n",
       "      <td>6.0</td>\n",
       "      <td>8.0</td>\n",
       "    </tr>\n",
       "  </tbody>\n",
       "</table>\n",
       "</div>"
      ],
      "text/plain": [
       "        President   Year   Total Requests   First-time Requests   \\\n",
       "0        Truman I    1946             41.0                  16.0   \n",
       "1        Truman I    1947             23.0                  21.0   \n",
       "2        Truman I    1948             16.0                   6.0   \n",
       "3       Truman II    1949             28.0                  17.0   \n",
       "4       Truman II    1950             20.0                   9.0   \n",
       "5       Truman II    1951             11.0                   5.0   \n",
       "6       Truman II    1952             19.0                   7.0   \n",
       "7      Eisenhower    1953             14.0                  14.0   \n",
       "8      Eisenhower    1954             39.0                  35.0   \n",
       "9      Eisenhower    1955             32.0                  19.0   \n",
       "10     Eisenhower    1956              0.0                   0.0   \n",
       "11  Eisenhower II    1957             14.0                   6.0   \n",
       "\n",
       "    Repeat Requests   \n",
       "0               25.0  \n",
       "1                2.0  \n",
       "2                9.0  \n",
       "3               11.0  \n",
       "4               11.0  \n",
       "5                6.0  \n",
       "6               12.0  \n",
       "7                0.0  \n",
       "8                4.0  \n",
       "9               14.0  \n",
       "10               0.0  \n",
       "11               8.0  "
      ]
     },
     "execution_count": 6,
     "metadata": {},
     "output_type": "execute_result"
    }
   ],
   "source": [
    "# With fillna we can change the value of a Nan by \"0\"\n",
    "fill_data = data.fillna(0)\n",
    "fill_data.head(12)"
   ]
  },
  {
   "cell_type": "markdown",
   "metadata": {},
   "source": [
    "##### Ploting the data to look for anr trends or values"
   ]
  },
  {
   "cell_type": "code",
   "execution_count": 7,
   "metadata": {},
   "outputs": [
    {
     "data": {
      "text/plain": [
       "Text(0,0.5,'No. Presidential Request')"
      ]
     },
     "execution_count": 7,
     "metadata": {},
     "output_type": "execute_result"
    },
    {
     "data": {
      "image/png": "[encoded data removed]",
      "text/plain": [
       "<matplotlib.figure.Figure at 0x7f44c09fa2b0>"
      ]
     },
     "metadata": {},
     "output_type": "display_data"
    }
   ],
   "source": [
    "#We need to create the X and Y data for the graph\n",
    "#NOTE= I use iloc because orther wise I got an error for using 'slice' method\n",
    "x = fill_data.iloc[:, 1]\n",
    "y = fill_data.iloc[:, 2]\n",
    "\n",
    "############Ploting###################\n",
    "# Configuring the framework\n",
    "%matplotlib inline\n",
    "sb.set_style('whitegrid')\n",
    "\n",
    "# Seting up the plot\n",
    "plt.close()\n",
    "plt.figure(1)\n",
    "#with figure I just enumerate my graphs\n",
    "plt.title(\"All data\")\n",
    "plt.plot(x, y, 'ro')\n",
    "plt.xlabel('year')\n",
    "plt.ylabel('No. Presidential Request')\n"
   ]
  },
  {
   "cell_type": "markdown",
   "metadata": {},
   "source": [
    "### Calculating the percentile values"
   ]
  },
  {
   "cell_type": "code",
   "execution_count": 8,
   "metadata": {},
   "outputs": [
    {
     "data": {
      "text/html": [
       "<div>\n",
       "<style scoped>\n",
       "    .dataframe tbody tr th:only-of-type {\n",
       "        vertical-align: middle;\n",
       "    }\n",
       "\n",
       "    .dataframe tbody tr th {\n",
       "        vertical-align: top;\n",
       "    }\n",
       "\n",
       "    .dataframe thead th {\n",
       "        text-align: right;\n",
       "    }\n",
       "</style>\n",
       "<table border=\"1\" class=\"dataframe\">\n",
       "  <thead>\n",
       "    <tr style=\"text-align: right;\">\n",
       "      <th></th>\n",
       "      <th>Year</th>\n",
       "      <th>Total Requests</th>\n",
       "      <th>First-time Requests</th>\n",
       "      <th>Repeat Requests</th>\n",
       "    </tr>\n",
       "  </thead>\n",
       "  <tbody>\n",
       "    <tr>\n",
       "      <th>count</th>\n",
       "      <td>52.000000</td>\n",
       "      <td>52.000000</td>\n",
       "      <td>52.000000</td>\n",
       "      <td>52.000000</td>\n",
       "    </tr>\n",
       "    <tr>\n",
       "      <th>mean</th>\n",
       "      <td>1971.500000</td>\n",
       "      <td>19.461538</td>\n",
       "      <td>11.961538</td>\n",
       "      <td>3.403846</td>\n",
       "    </tr>\n",
       "    <tr>\n",
       "      <th>std</th>\n",
       "      <td>15.154757</td>\n",
       "      <td>10.626385</td>\n",
       "      <td>9.050970</td>\n",
       "      <td>5.580989</td>\n",
       "    </tr>\n",
       "    <tr>\n",
       "      <th>min</th>\n",
       "      <td>1946.000000</td>\n",
       "      <td>0.000000</td>\n",
       "      <td>0.000000</td>\n",
       "      <td>0.000000</td>\n",
       "    </tr>\n",
       "    <tr>\n",
       "      <th>25%</th>\n",
       "      <td>1958.750000</td>\n",
       "      <td>13.000000</td>\n",
       "      <td>6.000000</td>\n",
       "      <td>0.000000</td>\n",
       "    </tr>\n",
       "    <tr>\n",
       "      <th>50%</th>\n",
       "      <td>1971.500000</td>\n",
       "      <td>18.500000</td>\n",
       "      <td>10.500000</td>\n",
       "      <td>0.000000</td>\n",
       "    </tr>\n",
       "    <tr>\n",
       "      <th>75%</th>\n",
       "      <td>1984.250000</td>\n",
       "      <td>25.250000</td>\n",
       "      <td>16.250000</td>\n",
       "      <td>6.500000</td>\n",
       "    </tr>\n",
       "    <tr>\n",
       "      <th>max</th>\n",
       "      <td>1997.000000</td>\n",
       "      <td>54.000000</td>\n",
       "      <td>35.000000</td>\n",
       "      <td>25.000000</td>\n",
       "    </tr>\n",
       "  </tbody>\n",
       "</table>\n",
       "</div>"
      ],
      "text/plain": [
       "             Year   Total Requests   First-time Requests   Repeat Requests \n",
       "count    52.000000        52.000000             52.000000         52.000000\n",
       "mean   1971.500000        19.461538             11.961538          3.403846\n",
       "std      15.154757        10.626385              9.050970          5.580989\n",
       "min    1946.000000         0.000000              0.000000          0.000000\n",
       "25%    1958.750000        13.000000              6.000000          0.000000\n",
       "50%    1971.500000        18.500000             10.500000          0.000000\n",
       "75%    1984.250000        25.250000             16.250000          6.500000\n",
       "max    1997.000000        54.000000             35.000000         25.000000"
      ]
     },
     "execution_count": 8,
     "metadata": {},
     "output_type": "execute_result"
    }
   ],
   "source": [
    "# Using the method 'describe' I found the percentile statistics\n",
    "stats = pd.DataFrame(fill_data.describe())\n",
    "stats"
   ]
  },
  {
   "cell_type": "code",
   "execution_count": 9,
   "metadata": {},
   "outputs": [
    {
     "name": "stdout",
     "output_type": "stream",
     "text": [
      "count    52.000000\n",
      "mean     19.461538\n",
      "std      10.626385\n",
      "min       0.000000\n",
      "25%      13.000000\n",
      "50%      18.500000\n",
      "75%      25.250000\n",
      "max      54.000000\n",
      "Name: Total Requests , dtype: float64\n"
     ]
    }
   ],
   "source": [
    "print(stats.iloc[:, 1])"
   ]
  },
  {
   "cell_type": "code",
   "execution_count": 10,
   "metadata": {},
   "outputs": [],
   "source": [
    "# Creating an object to save each percentile of the Label\n",
    "perc_25_request = stats.iloc[4 , 1]\n",
    "perc_50_request = stats.iloc[5 , 1]\n",
    "perc_75_request = stats.iloc[6 , 1]\n"
   ]
  },
  {
   "cell_type": "code",
   "execution_count": 11,
   "metadata": {},
   "outputs": [
    {
     "data": {
      "image/png": "[encoded data removed]",
      "text/plain": [
       "<matplotlib.figure.Figure at 0x7f44b8e4a780>"
      ]
     },
     "metadata": {},
     "output_type": "display_data"
    }
   ],
   "source": [
    "# Seting up the NEW plot\n",
    "plt.close('all')\n",
    "#Closing all the graphs\n",
    "plt.figure(2)\n",
    "plt.title(\"All data\")\n",
    "plt.plot(x, y, 'ro')\n",
    "plt.xlabel('year')\n",
    "plt.ylabel('No. Presidential Request')\n",
    "plt.axhline(perc_25_request, label='25th perc', c='b')\n",
    "plt.axhline(perc_50_request, label='50th perc', c='b')\n",
    "plt.axhline(perc_75_request, label='75th perc', c='b')\n",
    "plt.legend(loc='best')\n",
    "plt.show()"
   ]
  },
  {
   "cell_type": "code",
   "execution_count": 12,
   "metadata": {},
   "outputs": [],
   "source": [
    "# Looking for the outliers by visual inspection\n",
    "# \"\"Removing\"\" outilers using mask function\n",
    "\n",
    "# Masking outliers 0\n",
    "# with masked_where function you can hide the points instead of removing from the data\n",
    "y_masked = np.ma.masked_where(y==0, y)\n",
    "\n",
    "# Masking point 54\n",
    "y_masked = np.ma.masked_where(y_masked==54, y_masked)"
   ]
  },
  {
   "cell_type": "code",
   "execution_count": 13,
   "metadata": {},
   "outputs": [
    {
     "data": {
      "image/png": "[encoded data removed]",
      "text/plain": [
       "<matplotlib.figure.Figure at 0x7f44b8e4a668>"
      ]
     },
     "metadata": {},
     "output_type": "display_data"
    }
   ],
   "source": [
    "#### Ploting the new plot without outliers\n",
    "plt.close('all')\n",
    "plt.figure(3)\n",
    "plt.title(\"Masked data\")\n",
    "plt.plot(x, y_masked, 'ro')\n",
    "plt.xlabel('year')\n",
    "plt.ylabel('No. Presidential Request')\n",
    "plt.ylim(0 , 45)\n",
    "plt.axhline(perc_25_request, label='25th perc', c='b')\n",
    "plt.axhline(perc_50_request, label='50th perc', c='b')\n",
    "plt.axhline(perc_75_request, label='75th perc', c='b')\n",
    "plt.legend(loc='best')\n",
    "plt.show()"
   ]
  },
  {
   "cell_type": "markdown",
   "metadata": {},
   "source": [
    "Note = I know that the 0-values were the outliers because I replaced them the Null values by 0-values."
   ]
  },
  {
   "cell_type": "markdown",
   "metadata": {},
   "source": [
    "## Grouping the data"
   ]
  },
  {
   "cell_type": "code",
   "execution_count": 14,
   "metadata": {},
   "outputs": [],
   "source": [
    "# importing other necesary libraries\n",
    "from collections import Counter\n",
    "from collections import OrderedDict\n",
    "from matplotlib.pylab import frange"
   ]
  },
  {
   "cell_type": "code",
   "execution_count": 25,
   "metadata": {},
   "outputs": [],
   "source": [
    "# Select the data using frecuency\n",
    "x_freq = Counter(y)\n",
    "x_ = np.array(list(x_freq.keys()))\n",
    "y_ = np.array(list(x_freq.values()))\n"
   ]
  },
  {
   "cell_type": "code",
   "execution_count": 27,
   "metadata": {},
   "outputs": [],
   "source": [
    "# Grouping the data\n",
    "x_group = OrderedDict()\n",
    "group = 5\n",
    "group_count = 1\n",
    "keys = []\n",
    "values = []\n",
    "for i, xx in enumerate(x):\n",
    "    #Individual data point is append\n",
    "    keys.append(xx)\n",
    "    values.append(y[i])\n",
    "    if group_count == group:\n",
    "        # covnert list of keys to a tuple\n",
    "        x_group[tuple(keys)] = values\n",
    "        keys = []\n",
    "        values = []\n",
    "        group_count = 1\n",
    "    \n",
    "    group_count+=1 \n",
    "    \n",
    "x_group[tuple(keys)] = values"
   ]
  },
  {
   "cell_type": "code",
   "execution_count": 32,
   "metadata": {},
   "outputs": [
    {
     "data": {
      "text/plain": [
       "Text(0,0.5,'Frequency')"
      ]
     },
     "execution_count": 32,
     "metadata": {},
     "output_type": "execute_result"
    },
    {
     "data": {
      "image/png": "[encoded data removed]",
      "text/plain": [
       "<matplotlib.figure.Figure at 0x7f44b89d3c50>"
      ]
     },
     "metadata": {},
     "output_type": "display_data"
    }
   ],
   "source": [
    "# Ploting the data as dot plot\n",
    "plt.subplot(311)\n",
    "plt.title(\"Dot Plot by Frequency\")\n",
    "\n",
    "##########Ploting frequency\n",
    "plt.plot(y_ , x_ , 'ro')\n",
    "plt.xlabel('Count')\n",
    "plt.ylabel('# Presedential Request')\n",
    "###### Setting min and max\n",
    "plt.xlim(min(y_)-1 , max(y_)+1)\n",
    "\n",
    "plt.subplot(321)\n",
    "plt.title(\"Simple dot plot\")\n",
    "plt.xlabel('# Presidential Request')\n",
    "plt.ylabel('Frequency')\n",
    "#plt.show()\n"
   ]
  },
  {
   "cell_type": "code",
   "execution_count": null,
   "metadata": {},
   "outputs": [],
   "source": []
  },
  {
   "cell_type": "code",
   "execution_count": null,
   "metadata": {},
   "outputs": [],
   "source": []
  },
  {
   "cell_type": "code",
   "execution_count": null,
   "metadata": {},
   "outputs": [],
   "source": []
  }
 ],
 "metadata": {
  "kernelspec": {
   "display_name": "Python 3",
   "language": "python",
   "name": "python3"
  },
  "language_info": {
   "codemirror_mode": {
    "name": "ipython",
    "version": 3
   },
   "file_extension": ".py",
   "mimetype": "text/x-python",
   "name": "python",
   "nbconvert_exporter": "python",
   "pygments_lexer": "ipython3",
   "version": "3.6.4"
  }
 },
 "nbformat": 4,
 "nbformat_minor": 2
}
